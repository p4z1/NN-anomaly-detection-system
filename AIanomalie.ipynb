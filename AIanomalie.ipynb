{
 "cells": [
  {
   "cell_type": "code",
   "execution_count": null,
   "metadata": {},
   "outputs": [],
   "source": [
    "from PIL import Image\n",
    "import torch\n",
    "import pandas as pd\n",
    "import os, sys\n",
    "from skimage import io\n",
    "import matplotlib.pyplot as plt\n",
    "import numpy as np\n",
    "from torch.utils.data import Dataset\n",
    "from torchvision import datasets, transforms"
   ]
  },
  {
   "cell_type": "code",
   "execution_count": null,
   "metadata": {},
   "outputs": [],
   "source": [
    "class AnomalyDataset(Dataset):\n",
    "    def __init__(self,csvFile,rootDir,transform=None):\n",
    "        self.annotations = pd.read_csv(csvFile)\n",
    "        self.rootDir = rootDir\n",
    "        self.transform = transform\n",
    "    \n",
    "    def __len__(self):\n",
    "        return len(self.annotations)\n",
    "        \n",
    "\n",
    "    def __getitem__(self, index):\n",
    "        imgPath = os.path.join(self.rootDir,self.annotations.iloc[index,0])\n",
    "        print(self.annotations.iloc[index,0])\n",
    "        print(self.annotations.iloc[index,1])\n",
    "        image = io.imread(imgPath)\n",
    "        yLabel = torch.tensor(int(self.annotations.iloc[index,1]))\n",
    "        print(type(image))\n",
    "        if self.transform:\n",
    "            image = self.transform(Image.fromarray(image))\n",
    "            print(type(image))\n",
    "        \n",
    "        return (image,yLabel)    \n"
   ]
  },
  {
   "cell_type": "code",
   "execution_count": null,
   "metadata": {},
   "outputs": [],
   "source": [
    "inputSize = 224\n",
    "batchSize = 50\n",
    "learninigRate = 0.001\n",
    "epochs = 150"
   ]
  },
  {
   "cell_type": "code",
   "execution_count": null,
   "metadata": {},
   "outputs": [],
   "source": [
    "normalize = transforms.Normalize(mean=[0.485, 0.456, 0.406],\n",
    "                                 std=[0.229, 0.224, 0.225])\n",
    "\n",
    "transform = transforms.Compose([\n",
    "        transforms.RandomResizedCrop(inputSize, scale=(0.2, 1.0)), \n",
    "        transforms.RandomHorizontalFlip(),\n",
    "        transforms.ToTensor(),\n",
    "        normalize,\n",
    "    ])\n",
    "\n",
    "dataset = AnomalyDataset(csvFile=\"./Images/Labels.csv\", rootDir=\"Images\",transform=transform)"
   ]
  },
  {
   "cell_type": "code",
   "execution_count": null,
   "metadata": {},
   "outputs": [],
   "source": [
    "trainDatasetLength = int(len(dataset)*0.7)\n",
    "\n",
    "trainSet, testSet = torch.utils.data.random_split(dataset,[trainDatasetLength,len(dataset)-trainDatasetLength]) #splitovanie datasetu na testovacie a trenovacie data\n",
    "\n",
    "trainLoader = torch.utils.data.DataLoader(trainSet,batch_size=batchSize,shuffle=True)\n",
    "testLoader = torch.utils.data.DataLoader(testSet,batch_size=batchSize,shuffle=True)"
   ]
  },
  {
   "cell_type": "code",
   "execution_count": null,
   "metadata": {},
   "outputs": [],
   "source": [
    "model = torch.hub.load('pytorch/vision:v0.10.0','mobilenet_v2', pretrained=False)\n",
    "device = torch.device(\"cuda:0\" if torch.cuda.is_available() else \"cpu\")"
   ]
  },
  {
   "cell_type": "code",
   "execution_count": null,
   "metadata": {},
   "outputs": [],
   "source": [
    "criterion = torch.nn.CrossEntropyLoss()\n",
    "model = model.cuda()\n",
    "optimizer = torch.optim.Adam(model.parameters(),lr=learninigRate)"
   ]
  },
  {
   "cell_type": "code",
   "execution_count": null,
   "metadata": {},
   "outputs": [],
   "source": [
    "trainLoss = []\n",
    "testLoss = []\n",
    "trainAcc = []\n",
    "testAcc = []\n",
    "\n",
    "for epoch in range(1,epochs+1):\n",
    "    runningLoss = .0\n",
    "    correct = 0\n",
    "    total = 0\n",
    "    for i, (inputs,labels) in enumerate(trainLoader):\n",
    "        inputs = inputs.cuda()\n",
    "        labels = labels.cuda()\n",
    "\n",
    "        optimizer.zero_grad()\n",
    "        inputs.size()\n",
    "        outputs = model(inputs)\n",
    "        loss = criterion(outputs, labels) \n",
    "\n",
    "        loss.backward()\n",
    "\n",
    "        optimizer.step()\n",
    "\n",
    "        runningLoss += loss.item()\n",
    "        _, predicted = torch.max(outputs.data, 1)\n",
    "        total += labels.size(0)\n",
    "        correct += (predicted == labels).sum().item()\n",
    "\n",
    "    runningLoss /= len(trainLoader)\n",
    "    trainLoss.append(runningLoss)\n",
    "    runningAcc = correct / total\n",
    "    trainAcc.append(runningAcc)\n",
    "\n",
    "    if epoch % 2 == 0:\n",
    "        file_object = open('learninigOutput.txt', 'a')\n",
    "        file_object.write(\"\\nEpoch: {}\".format(epoch))\n",
    "        file_object.write('Train Acc. => {:.3f}%'.format(100*runningAcc))\n",
    "        file_object.write('Train Loss => {:.5f}'.format(runningLoss))\n",
    "        file_object.close()\n",
    "\n",
    "    with torch.no_grad():\n",
    "        correct = 0\n",
    "        total = 0\n",
    "        testRunningLoss = 0\n",
    "        for data in testLoader:\n",
    "            inputs, labels = data\n",
    "            inputs = inputs.cuda()\n",
    "            labels = labels.cuda()\n",
    "            outputs = model(inputs)\n",
    "            loss = criterion(outputs, labels)\n",
    "            testRunningLoss += loss.item()\n",
    "            _, predicted = torch.max(outputs.data, 1)\n",
    "            total += labels.size(0)\n",
    "            correct += (predicted == labels).sum().item()\n",
    "        \n",
    "        testRunningLoss /= len(testLoader)\n",
    "        testLoss.append(testRunningLoss)\n",
    "        testRunningAcc = correct /total\n",
    "        testAcc.append(testRunningAcc)\n",
    "\n",
    "        if epoch % 2 == 0:\n",
    "            file_object = open('learninigOutput.txt', 'a')\n",
    "            file_object.write(\"\\nEpoch: {}\".format(epoch))\n",
    "            file_object.write('Test Acc. => {:.3f}%'.format(100 * testRunningAcc))\n",
    "            file_object.write('Test Loss => {:.5f}'.format(testRunningLoss))\n",
    "            file_object.close()\n",
    "\n",
    "print('Finished Training')"
   ]
  },
  {
   "cell_type": "code",
   "execution_count": null,
   "metadata": {},
   "outputs": [],
   "source": [
    "def checkAccuracy(testloader,model):\n",
    "    with torch.no_grad():\n",
    "        correct = 0\n",
    "        total = 0\n",
    "        testRunningLoss = 0\n",
    "        for data in testLoader:\n",
    "            inputs, labels = data\n",
    "            inputs = inputs.cuda()\n",
    "            labels = labels.cuda()\n",
    "            outputs = model(inputs)\n",
    "            loss = criterion(outputs, labels)\n",
    "            testRunningLoss += loss.item()\n",
    "            _, predicted = torch.max(outputs.data, 1)\n",
    "            total += labels.size(0)\n",
    "            correct += (predicted == labels).sum().item()\n",
    "        \n",
    "        testRunningLoss /= len(testLoader)\n",
    "        testLoss.append(testRunningLoss)\n",
    "        testRunningAcc = correct /total\n",
    "        testAcc.append(testRunningAcc)\n",
    "\n",
    "        print('Test Acc. => {:.3f}%'.format(100 * testRunningAcc), end = ' | ')\n",
    "        print('Test Loss => {:.5f}'.format(testRunningLoss))"
   ]
  },
  {
   "cell_type": "code",
   "execution_count": null,
   "metadata": {},
   "outputs": [],
   "source": [
    "def modelSave(model):\n",
    "    torch.save(model,\"anomalie.pth\")\n",
    "\n",
    "modelSave(model)"
   ]
  },
  {
   "cell_type": "code",
   "execution_count": null,
   "metadata": {},
   "outputs": [],
   "source": [
    "model = torch.load(\"anomalie.pth\")\n",
    "model.eval()"
   ]
  },
  {
   "cell_type": "code",
   "execution_count": null,
   "metadata": {},
   "outputs": [],
   "source": [
    "trainLoss = []\n",
    "testLoss = []\n",
    "trainAcc = []\n",
    "testAcc = []\n",
    "checkAccuracy(testLoader,model)"
   ]
  }
 ],
 "metadata": {
  "interpreter": {
   "hash": "b3e4e50a58375eb5b00595c1a50024e19c245351d0341f20ae8554ec8a929781"
  },
  "kernelspec": {
   "display_name": "Python 3.9.7 64-bit",
   "name": "python3"
  },
  "language_info": {
   "codemirror_mode": {
    "name": "ipython",
    "version": 3
   },
   "file_extension": ".py",
   "mimetype": "text/x-python",
   "name": "python",
   "nbconvert_exporter": "python",
   "pygments_lexer": "ipython3",
   "version": "3.9.7"
  },
  "orig_nbformat": 4
 },
 "nbformat": 4,
 "nbformat_minor": 2
}
