{
 "cells": [
  {
   "cell_type": "code",
   "execution_count": 5,
   "metadata": {},
   "outputs": [],
   "source": [
    "import torch\n",
    "import pandas as pd\n",
    "import os\n",
    "from skimage import io\n",
    "import matplotlib.pyplot as plt\n",
    "\n",
    "from torch.utils.data import Dataset\n",
    "from torchvision import datasets, transforms\n",
    "\n",
    "#import helper\n",
    "#zistit ako to spojazdnit"
   ]
  },
  {
   "cell_type": "code",
   "execution_count": 21,
   "metadata": {},
   "outputs": [],
   "source": [
    "class AnomalyDataset(Dataset):\n",
    "    def __init__(self,csvFile,rootDir,transform=None):\n",
    "        self.annotations = pd.read_csv(csvFile)\n",
    "        self.rootDir = rootDir\n",
    "        self.transform = transform\n",
    "    \n",
    "    def __len__(self):\n",
    "        return len(self.annotations)\n",
    "        \n",
    "\n",
    "    def __getitem__(self, index):\n",
    "        imgPath = os.path.join(self.rootDir,self.annotations.iloc[index,0])\n",
    "        print(self.annotations.iloc[index,0])\n",
    "        print(self.annotations.iloc[index,1])\n",
    "        image = io.imread(imgPath)\n",
    "        yLabel = torch.tensor(int(self.annotations.iloc[index,1]))\n",
    "\n",
    "        if self.transform:\n",
    "            image = self.transform(image)\n",
    "        \n",
    "        return (image,yLabel)\n",
    "        \n"
   ]
  },
  {
   "cell_type": "code",
   "execution_count": 22,
   "metadata": {},
   "outputs": [],
   "source": [
    "dataset1 = AnomalyDataset(csvFile=\"./Images/Labels.csv\", rootDir=\"Images\")"
   ]
  },
  {
   "cell_type": "code",
   "execution_count": 24,
   "metadata": {},
   "outputs": [
    {
     "name": "stdout",
     "output_type": "stream",
     "text": [
      "Anomaly5.png\n",
      "Anomaly47.png\n",
      "Anomaly1.png\n",
      "Anomaly33.png\n",
      "Anomaly3.png\n",
      "Anomaly19.png\n",
      "Anomaly2.png\n",
      "Anomaly27.png\n",
      "Anomaly22.png\n",
      "Anomaly35.png\n",
      "Anomaly36.png\n",
      "Anomaly42.png\n",
      "Anomaly21.png\n",
      "Anomaly6.png\n",
      "Anomaly15.png\n",
      "Anomaly9.png\n",
      "Anomaly46.png\n",
      "Anomaly44.png\n",
      "Anomaly10.png\n",
      "Anomaly48.png\n",
      "Anomaly23.png\n",
      "Anomaly31.png\n",
      "Anomaly8.png\n",
      "Anomaly16.png\n",
      "Anomaly12.png\n"
     ]
    }
   ],
   "source": [
    "dataLoader = torch.utils.data.DataLoader(dataset1,batch_size=25,shuffle=True)\n",
    "\n",
    "images, labels = next(iter(dataLoader))\n"
   ]
  },
  {
   "cell_type": "code",
   "execution_count": 25,
   "metadata": {},
   "outputs": [
    {
     "name": "stdout",
     "output_type": "stream",
     "text": [
      "tensor([0, 0, 0, 0, 0, 0, 0, 0, 0, 0, 0, 0, 0, 0, 0, 0, 0, 0, 0, 0, 0, 0, 0, 0,\n",
      "        0])\n"
     ]
    }
   ],
   "source": [
    "print(labels)"
   ]
  }
 ],
 "metadata": {
  "interpreter": {
   "hash": "b3e4e50a58375eb5b00595c1a50024e19c245351d0341f20ae8554ec8a929781"
  },
  "kernelspec": {
   "display_name": "Python 3.9.7 64-bit",
   "name": "python3"
  },
  "language_info": {
   "codemirror_mode": {
    "name": "ipython",
    "version": 3
   },
   "file_extension": ".py",
   "mimetype": "text/x-python",
   "name": "python",
   "nbconvert_exporter": "python",
   "pygments_lexer": "ipython3",
   "version": "3.9.7"
  },
  "orig_nbformat": 4
 },
 "nbformat": 4,
 "nbformat_minor": 2
}
